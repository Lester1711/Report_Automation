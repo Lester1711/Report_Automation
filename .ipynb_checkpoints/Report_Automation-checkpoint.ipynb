{
 "cells": [
  {
   "cell_type": "markdown",
   "metadata": {},
   "source": [
    "## Automating Spreadsheet Data for Reporting"
   ]
  },
  {
   "cell_type": "markdown",
   "metadata": {},
   "source": [
    "### Methodology & Working Assumptions"
   ]
  },
  {
   "cell_type": "markdown",
   "metadata": {},
   "source": [
    "Following acronyms under TRANTYPE are as such:<br>\n",
    "\n",
    "CANC - Cancellation (assumed to be the cancelled GWP)<br>\n",
    "REIN – Reinstatement (assumed to be part of booked GWP)<br>\n",
    "RNWL – Renewal (assumed to be part of booked GWP)<br>\n",
    "ENDO - Endowment (assumed to be part of booked GWP)<br>\n",
    "NWBS - Not guessable (assumed to be part of booked GWP)<br>\n",
    "\n",
    "<ul>\n",
    "    <li>Cancelled Gross Written Premium assumed to refer to the net sum under CANC in TRANTYPE</li>\n",
    "    <li>Booked Gross Written Premium assumed to refer to the net sum under REIN + RNWL + ENDO + NWBS in TRANTYPE</li>\n",
    "    <li>The definition of showing figures up to the current month refers to the most recent transaction date in \"YrM\" column of the most recent file run through this script.</li>\n",
    "</ul>\n",
    "<br>\n",
    "Premium sheet is the main file of reference but since LOB information is in Policy Sheet, it will be joined via common policy number \"CHDRNUM\" so we can provide aggregates by LOB as well. The main columns to examine would be \"YrM\" (reference date for the years and months breakdown analysis), \"TRANTYPE\" (to determine whether policy was booked or cancelled) and GWP (premium amount)."
   ]
  },
  {
   "cell_type": "markdown",
   "metadata": {},
   "source": [
    "#### Import Libraries"
   ]
  },
  {
   "cell_type": "code",
   "execution_count": 1,
   "metadata": {},
   "outputs": [],
   "source": [
    "import pandas as pd\n",
    "from datetime import datetime"
   ]
  },
  {
   "cell_type": "markdown",
   "metadata": {},
   "source": [
    "#### Read the Excel Document"
   ]
  },
  {
   "cell_type": "code",
   "execution_count": 2,
   "metadata": {},
   "outputs": [],
   "source": [
    "df_policy= pd.read_excel (r'PREMIUM_POLICY_DATA.xlsx', sheet_name='POLICY')\n",
    "df_premium= pd.read_excel (r'PREMIUM_POLICY_DATA.xlsx', sheet_name='PREMIUM')"
   ]
  },
  {
   "cell_type": "markdown",
   "metadata": {},
   "source": [
    "#### Verify each spreadsheet has been extracted successfully"
   ]
  },
  {
   "cell_type": "code",
   "execution_count": 3,
   "metadata": {
    "scrolled": false
   },
   "outputs": [
    {
     "data": {
      "text/html": [
       "<div>\n",
       "<style scoped>\n",
       "    .dataframe tbody tr th:only-of-type {\n",
       "        vertical-align: middle;\n",
       "    }\n",
       "\n",
       "    .dataframe tbody tr th {\n",
       "        vertical-align: top;\n",
       "    }\n",
       "\n",
       "    .dataframe thead th {\n",
       "        text-align: right;\n",
       "    }\n",
       "</style>\n",
       "<table border=\"1\" class=\"dataframe\">\n",
       "  <thead>\n",
       "    <tr style=\"text-align: right;\">\n",
       "      <th></th>\n",
       "      <th>CHDRNUM</th>\n",
       "      <th>lob</th>\n",
       "      <th>CNTTYPE</th>\n",
       "      <th>FUNDCODE</th>\n",
       "      <th>ACSTYP</th>\n",
       "      <th>D_latestexpiry</th>\n",
       "    </tr>\n",
       "  </thead>\n",
       "  <tbody>\n",
       "    <tr>\n",
       "      <th>0</th>\n",
       "      <td>10201150</td>\n",
       "      <td>017-Travel</td>\n",
       "      <td>ATP</td>\n",
       "      <td>L</td>\n",
       "      <td>NO</td>\n",
       "      <td>2021-09-30</td>\n",
       "    </tr>\n",
       "    <tr>\n",
       "      <th>1</th>\n",
       "      <td>10201150</td>\n",
       "      <td>017-Travel</td>\n",
       "      <td>ATP</td>\n",
       "      <td>L</td>\n",
       "      <td>NO</td>\n",
       "      <td>2021-09-30</td>\n",
       "    </tr>\n",
       "    <tr>\n",
       "      <th>2</th>\n",
       "      <td>10201150</td>\n",
       "      <td>017-Travel</td>\n",
       "      <td>ATP</td>\n",
       "      <td>L</td>\n",
       "      <td>NO</td>\n",
       "      <td>2021-09-30</td>\n",
       "    </tr>\n",
       "    <tr>\n",
       "      <th>3</th>\n",
       "      <td>10201150</td>\n",
       "      <td>017-Travel</td>\n",
       "      <td>ATP</td>\n",
       "      <td>L</td>\n",
       "      <td>NO</td>\n",
       "      <td>2021-09-30</td>\n",
       "    </tr>\n",
       "    <tr>\n",
       "      <th>4</th>\n",
       "      <td>10201150</td>\n",
       "      <td>017-Travel</td>\n",
       "      <td>ATP</td>\n",
       "      <td>L</td>\n",
       "      <td>NO</td>\n",
       "      <td>2021-09-30</td>\n",
       "    </tr>\n",
       "  </tbody>\n",
       "</table>\n",
       "</div>"
      ],
      "text/plain": [
       "    CHDRNUM         lob CNTTYPE FUNDCODE ACSTYP D_latestexpiry\n",
       "0  10201150  017-Travel     ATP        L     NO     2021-09-30\n",
       "1  10201150  017-Travel     ATP        L     NO     2021-09-30\n",
       "2  10201150  017-Travel     ATP        L     NO     2021-09-30\n",
       "3  10201150  017-Travel     ATP        L     NO     2021-09-30\n",
       "4  10201150  017-Travel     ATP        L     NO     2021-09-30"
      ]
     },
     "execution_count": 3,
     "metadata": {},
     "output_type": "execute_result"
    }
   ],
   "source": [
    "df_policy.head()"
   ]
  },
  {
   "cell_type": "code",
   "execution_count": 4,
   "metadata": {
    "scrolled": false
   },
   "outputs": [
    {
     "data": {
      "text/html": [
       "<div>\n",
       "<style scoped>\n",
       "    .dataframe tbody tr th:only-of-type {\n",
       "        vertical-align: middle;\n",
       "    }\n",
       "\n",
       "    .dataframe tbody tr th {\n",
       "        vertical-align: top;\n",
       "    }\n",
       "\n",
       "    .dataframe thead th {\n",
       "        text-align: right;\n",
       "    }\n",
       "</style>\n",
       "<table border=\"1\" class=\"dataframe\">\n",
       "  <thead>\n",
       "    <tr style=\"text-align: right;\">\n",
       "      <th></th>\n",
       "      <th>CHDRNUM</th>\n",
       "      <th>TRANNO</th>\n",
       "      <th>AGENTID</th>\n",
       "      <th>YrM</th>\n",
       "      <th>D_tran</th>\n",
       "      <th>D_eff</th>\n",
       "      <th>D_com</th>\n",
       "      <th>D_exp</th>\n",
       "      <th>TRANTYPE</th>\n",
       "      <th>FINANCIAL</th>\n",
       "      <th>GWP</th>\n",
       "    </tr>\n",
       "  </thead>\n",
       "  <tbody>\n",
       "    <tr>\n",
       "      <th>0</th>\n",
       "      <td>10201150</td>\n",
       "      <td>1897</td>\n",
       "      <td>86</td>\n",
       "      <td>201912</td>\n",
       "      <td>2019-12-20</td>\n",
       "      <td>2019-11-03</td>\n",
       "      <td>2019-10-01</td>\n",
       "      <td>2020-09-30</td>\n",
       "      <td>ENDO</td>\n",
       "      <td>YES</td>\n",
       "      <td>0.0</td>\n",
       "    </tr>\n",
       "    <tr>\n",
       "      <th>1</th>\n",
       "      <td>10201150</td>\n",
       "      <td>1898</td>\n",
       "      <td>86</td>\n",
       "      <td>201912</td>\n",
       "      <td>2019-12-26</td>\n",
       "      <td>2019-12-15</td>\n",
       "      <td>2019-10-01</td>\n",
       "      <td>2020-09-30</td>\n",
       "      <td>ENDO</td>\n",
       "      <td>YES</td>\n",
       "      <td>149.9</td>\n",
       "    </tr>\n",
       "    <tr>\n",
       "      <th>2</th>\n",
       "      <td>10201150</td>\n",
       "      <td>1899</td>\n",
       "      <td>86</td>\n",
       "      <td>201912</td>\n",
       "      <td>2019-12-28</td>\n",
       "      <td>2019-10-12</td>\n",
       "      <td>2019-10-01</td>\n",
       "      <td>2020-09-30</td>\n",
       "      <td>ENDO</td>\n",
       "      <td>YES</td>\n",
       "      <td>87.1</td>\n",
       "    </tr>\n",
       "    <tr>\n",
       "      <th>3</th>\n",
       "      <td>10201150</td>\n",
       "      <td>1900</td>\n",
       "      <td>86</td>\n",
       "      <td>201912</td>\n",
       "      <td>2019-12-28</td>\n",
       "      <td>2019-10-12</td>\n",
       "      <td>2019-10-01</td>\n",
       "      <td>2020-09-30</td>\n",
       "      <td>ENDO</td>\n",
       "      <td>YES</td>\n",
       "      <td>-89.7</td>\n",
       "    </tr>\n",
       "    <tr>\n",
       "      <th>4</th>\n",
       "      <td>10201150</td>\n",
       "      <td>1901</td>\n",
       "      <td>86</td>\n",
       "      <td>201912</td>\n",
       "      <td>2019-12-28</td>\n",
       "      <td>2019-09-29</td>\n",
       "      <td>2018-10-01</td>\n",
       "      <td>2019-09-30</td>\n",
       "      <td>ENDO</td>\n",
       "      <td>YES</td>\n",
       "      <td>30.0</td>\n",
       "    </tr>\n",
       "  </tbody>\n",
       "</table>\n",
       "</div>"
      ],
      "text/plain": [
       "    CHDRNUM  TRANNO  AGENTID     YrM     D_tran      D_eff      D_com  \\\n",
       "0  10201150    1897       86  201912 2019-12-20 2019-11-03 2019-10-01   \n",
       "1  10201150    1898       86  201912 2019-12-26 2019-12-15 2019-10-01   \n",
       "2  10201150    1899       86  201912 2019-12-28 2019-10-12 2019-10-01   \n",
       "3  10201150    1900       86  201912 2019-12-28 2019-10-12 2019-10-01   \n",
       "4  10201150    1901       86  201912 2019-12-28 2019-09-29 2018-10-01   \n",
       "\n",
       "       D_exp TRANTYPE FINANCIAL    GWP  \n",
       "0 2020-09-30     ENDO       YES    0.0  \n",
       "1 2020-09-30     ENDO       YES  149.9  \n",
       "2 2020-09-30     ENDO       YES   87.1  \n",
       "3 2020-09-30     ENDO       YES  -89.7  \n",
       "4 2019-09-30     ENDO       YES   30.0  "
      ]
     },
     "execution_count": 4,
     "metadata": {},
     "output_type": "execute_result"
    }
   ],
   "source": [
    "df_premium.head()"
   ]
  },
  {
   "cell_type": "markdown",
   "metadata": {},
   "source": [
    "Check variable data types"
   ]
  },
  {
   "cell_type": "code",
   "execution_count": 5,
   "metadata": {},
   "outputs": [
    {
     "data": {
      "text/plain": [
       "CHDRNUM                   object\n",
       "lob                       object\n",
       "CNTTYPE                   object\n",
       "FUNDCODE                  object\n",
       "ACSTYP                    object\n",
       "D_latestexpiry    datetime64[ns]\n",
       "dtype: object"
      ]
     },
     "execution_count": 5,
     "metadata": {},
     "output_type": "execute_result"
    }
   ],
   "source": [
    "df_policy.dtypes"
   ]
  },
  {
   "cell_type": "code",
   "execution_count": 6,
   "metadata": {},
   "outputs": [
    {
     "data": {
      "text/plain": [
       "CHDRNUM              object\n",
       "TRANNO                int64\n",
       "AGENTID               int64\n",
       "YrM                   int64\n",
       "D_tran       datetime64[ns]\n",
       "D_eff        datetime64[ns]\n",
       "D_com        datetime64[ns]\n",
       "D_exp        datetime64[ns]\n",
       "TRANTYPE             object\n",
       "FINANCIAL            object\n",
       "GWP                 float64\n",
       "dtype: object"
      ]
     },
     "execution_count": 6,
     "metadata": {},
     "output_type": "execute_result"
    }
   ],
   "source": [
    "df_premium.dtypes"
   ]
  },
  {
   "cell_type": "code",
   "execution_count": 7,
   "metadata": {
    "scrolled": true
   },
   "outputs": [
    {
     "name": "stdout",
     "output_type": "stream",
     "text": [
      "Policy Sheet contains 28398 rows and 6 columns.\n",
      "Premium Sheet contains 28398 rows and 11 columns.\n"
     ]
    }
   ],
   "source": [
    "# Inspect for completeness\n",
    "\n",
    "print('Policy Sheet contains {0} rows and {1} columns.'.format(df_policy.shape[0],df_policy.shape[1]))\n",
    "print('Premium Sheet contains {0} rows and {1} columns.'.format(df_premium.shape[0],df_premium.shape[1]))"
   ]
  },
  {
   "cell_type": "code",
   "execution_count": 8,
   "metadata": {
    "scrolled": true
   },
   "outputs": [
    {
     "name": "stdout",
     "output_type": "stream",
     "text": [
      "CHDRNUM           0\n",
      "lob               0\n",
      "CNTTYPE           0\n",
      "FUNDCODE          0\n",
      "ACSTYP            0\n",
      "D_latestexpiry    0\n",
      "dtype: int64\n"
     ]
    }
   ],
   "source": [
    "# Check for any null fields\n",
    "\n",
    "print(df_policy.isnull().sum())"
   ]
  },
  {
   "cell_type": "code",
   "execution_count": 9,
   "metadata": {},
   "outputs": [
    {
     "name": "stdout",
     "output_type": "stream",
     "text": [
      "CHDRNUM      0\n",
      "TRANNO       0\n",
      "AGENTID      0\n",
      "YrM          0\n",
      "D_tran       0\n",
      "D_eff        0\n",
      "D_com        0\n",
      "D_exp        0\n",
      "TRANTYPE     0\n",
      "FINANCIAL    0\n",
      "GWP          0\n",
      "dtype: int64\n"
     ]
    }
   ],
   "source": [
    "print(df_premium.isnull().sum())"
   ]
  },
  {
   "cell_type": "markdown",
   "metadata": {},
   "source": [
    "All rows are present with no null values."
   ]
  },
  {
   "cell_type": "markdown",
   "metadata": {},
   "source": [
    "#### Merge into one dataframe"
   ]
  },
  {
   "cell_type": "code",
   "execution_count": 10,
   "metadata": {},
   "outputs": [],
   "source": [
    "# Drop duplicates from policy sheet which might cause excess joining rows\n",
    "\n",
    "df_policy.drop_duplicates(subset='CHDRNUM', inplace=True)"
   ]
  },
  {
   "cell_type": "code",
   "execution_count": 11,
   "metadata": {},
   "outputs": [],
   "source": [
    "df_combined = pd.merge(df_premium, df_policy, on='CHDRNUM', how='left')"
   ]
  },
  {
   "cell_type": "code",
   "execution_count": 12,
   "metadata": {
    "scrolled": false
   },
   "outputs": [
    {
     "data": {
      "text/html": [
       "<div>\n",
       "<style scoped>\n",
       "    .dataframe tbody tr th:only-of-type {\n",
       "        vertical-align: middle;\n",
       "    }\n",
       "\n",
       "    .dataframe tbody tr th {\n",
       "        vertical-align: top;\n",
       "    }\n",
       "\n",
       "    .dataframe thead th {\n",
       "        text-align: right;\n",
       "    }\n",
       "</style>\n",
       "<table border=\"1\" class=\"dataframe\">\n",
       "  <thead>\n",
       "    <tr style=\"text-align: right;\">\n",
       "      <th></th>\n",
       "      <th>CHDRNUM</th>\n",
       "      <th>TRANNO</th>\n",
       "      <th>AGENTID</th>\n",
       "      <th>YrM</th>\n",
       "      <th>D_tran</th>\n",
       "      <th>D_eff</th>\n",
       "      <th>D_com</th>\n",
       "      <th>D_exp</th>\n",
       "      <th>TRANTYPE</th>\n",
       "      <th>FINANCIAL</th>\n",
       "      <th>GWP</th>\n",
       "      <th>lob</th>\n",
       "      <th>CNTTYPE</th>\n",
       "      <th>FUNDCODE</th>\n",
       "      <th>ACSTYP</th>\n",
       "      <th>D_latestexpiry</th>\n",
       "    </tr>\n",
       "  </thead>\n",
       "  <tbody>\n",
       "    <tr>\n",
       "      <th>0</th>\n",
       "      <td>10201150</td>\n",
       "      <td>1897</td>\n",
       "      <td>86</td>\n",
       "      <td>201912</td>\n",
       "      <td>2019-12-20</td>\n",
       "      <td>2019-11-03</td>\n",
       "      <td>2019-10-01</td>\n",
       "      <td>2020-09-30</td>\n",
       "      <td>ENDO</td>\n",
       "      <td>YES</td>\n",
       "      <td>0.0</td>\n",
       "      <td>017-Travel</td>\n",
       "      <td>ATP</td>\n",
       "      <td>L</td>\n",
       "      <td>NO</td>\n",
       "      <td>2021-09-30</td>\n",
       "    </tr>\n",
       "    <tr>\n",
       "      <th>1</th>\n",
       "      <td>10201150</td>\n",
       "      <td>1898</td>\n",
       "      <td>86</td>\n",
       "      <td>201912</td>\n",
       "      <td>2019-12-26</td>\n",
       "      <td>2019-12-15</td>\n",
       "      <td>2019-10-01</td>\n",
       "      <td>2020-09-30</td>\n",
       "      <td>ENDO</td>\n",
       "      <td>YES</td>\n",
       "      <td>149.9</td>\n",
       "      <td>017-Travel</td>\n",
       "      <td>ATP</td>\n",
       "      <td>L</td>\n",
       "      <td>NO</td>\n",
       "      <td>2021-09-30</td>\n",
       "    </tr>\n",
       "    <tr>\n",
       "      <th>2</th>\n",
       "      <td>10201150</td>\n",
       "      <td>1899</td>\n",
       "      <td>86</td>\n",
       "      <td>201912</td>\n",
       "      <td>2019-12-28</td>\n",
       "      <td>2019-10-12</td>\n",
       "      <td>2019-10-01</td>\n",
       "      <td>2020-09-30</td>\n",
       "      <td>ENDO</td>\n",
       "      <td>YES</td>\n",
       "      <td>87.1</td>\n",
       "      <td>017-Travel</td>\n",
       "      <td>ATP</td>\n",
       "      <td>L</td>\n",
       "      <td>NO</td>\n",
       "      <td>2021-09-30</td>\n",
       "    </tr>\n",
       "    <tr>\n",
       "      <th>3</th>\n",
       "      <td>10201150</td>\n",
       "      <td>1900</td>\n",
       "      <td>86</td>\n",
       "      <td>201912</td>\n",
       "      <td>2019-12-28</td>\n",
       "      <td>2019-10-12</td>\n",
       "      <td>2019-10-01</td>\n",
       "      <td>2020-09-30</td>\n",
       "      <td>ENDO</td>\n",
       "      <td>YES</td>\n",
       "      <td>-89.7</td>\n",
       "      <td>017-Travel</td>\n",
       "      <td>ATP</td>\n",
       "      <td>L</td>\n",
       "      <td>NO</td>\n",
       "      <td>2021-09-30</td>\n",
       "    </tr>\n",
       "    <tr>\n",
       "      <th>4</th>\n",
       "      <td>10201150</td>\n",
       "      <td>1901</td>\n",
       "      <td>86</td>\n",
       "      <td>201912</td>\n",
       "      <td>2019-12-28</td>\n",
       "      <td>2019-09-29</td>\n",
       "      <td>2018-10-01</td>\n",
       "      <td>2019-09-30</td>\n",
       "      <td>ENDO</td>\n",
       "      <td>YES</td>\n",
       "      <td>30.0</td>\n",
       "      <td>017-Travel</td>\n",
       "      <td>ATP</td>\n",
       "      <td>L</td>\n",
       "      <td>NO</td>\n",
       "      <td>2021-09-30</td>\n",
       "    </tr>\n",
       "  </tbody>\n",
       "</table>\n",
       "</div>"
      ],
      "text/plain": [
       "    CHDRNUM  TRANNO  AGENTID     YrM     D_tran      D_eff      D_com  \\\n",
       "0  10201150    1897       86  201912 2019-12-20 2019-11-03 2019-10-01   \n",
       "1  10201150    1898       86  201912 2019-12-26 2019-12-15 2019-10-01   \n",
       "2  10201150    1899       86  201912 2019-12-28 2019-10-12 2019-10-01   \n",
       "3  10201150    1900       86  201912 2019-12-28 2019-10-12 2019-10-01   \n",
       "4  10201150    1901       86  201912 2019-12-28 2019-09-29 2018-10-01   \n",
       "\n",
       "       D_exp TRANTYPE FINANCIAL    GWP         lob CNTTYPE FUNDCODE ACSTYP  \\\n",
       "0 2020-09-30     ENDO       YES    0.0  017-Travel     ATP        L     NO   \n",
       "1 2020-09-30     ENDO       YES  149.9  017-Travel     ATP        L     NO   \n",
       "2 2020-09-30     ENDO       YES   87.1  017-Travel     ATP        L     NO   \n",
       "3 2020-09-30     ENDO       YES  -89.7  017-Travel     ATP        L     NO   \n",
       "4 2019-09-30     ENDO       YES   30.0  017-Travel     ATP        L     NO   \n",
       "\n",
       "  D_latestexpiry  \n",
       "0     2021-09-30  \n",
       "1     2021-09-30  \n",
       "2     2021-09-30  \n",
       "3     2021-09-30  \n",
       "4     2021-09-30  "
      ]
     },
     "execution_count": 12,
     "metadata": {},
     "output_type": "execute_result"
    }
   ],
   "source": [
    "df_combined.head(5)"
   ]
  },
  {
   "cell_type": "code",
   "execution_count": 13,
   "metadata": {},
   "outputs": [
    {
     "data": {
      "text/plain": [
       "(28398, 16)"
      ]
     },
     "execution_count": 13,
     "metadata": {},
     "output_type": "execute_result"
    }
   ],
   "source": [
    "df_combined.shape"
   ]
  },
  {
   "cell_type": "markdown",
   "metadata": {},
   "source": [
    "### Filter only values relevant to current month and year and previous year period"
   ]
  },
  {
   "cell_type": "markdown",
   "metadata": {},
   "source": [
    "Since the only relevant values are Year-To-Date months and also the similar period for previous year, let us first extract only these information before doing the further data sorting. We will base this on time period on the \"YrM\" column.There are 2 approaches that can be used here. \n",
    "<ul>\n",
    "    <li>One would be the use of datetime format range manipulation.</li> \n",
    "<li>The other would be date integer format to work around. This will be selected for now</li> \n",
    "    </ul>"
   ]
  },
  {
   "cell_type": "code",
   "execution_count": 14,
   "metadata": {},
   "outputs": [],
   "source": [
    "# Set the anchor points for all the period ranges\n",
    "\n",
    "most_recent_date = df_combined['YrM'].nlargest().iloc[0]\n",
    "current_month = str(most_recent_date)[4:]\n",
    "current_year = str(most_recent_date)[:4]\n",
    "previous_year = int(current_year) - 1"
   ]
  },
  {
   "cell_type": "code",
   "execution_count": 15,
   "metadata": {},
   "outputs": [],
   "source": [
    "if current_month != '01':\n",
    "    current_date_range = [int(current_year + '01'), most_recent_date]\n",
    "    previous_date_range = [int(str(previous_year) + '01'), int(str(previous_year) + current_month)]\n",
    "else:\n",
    "    current_date_range = [most_recent_date, most_recent_date]\n",
    "    previous_date_range = [int(str(previous_year) + '01'), int(str(previous_year) + '01')]\n",
    "\n",
    "df_current_year = df_combined[(df_combined['YrM'] >= current_date_range[0]) & (df_combined['YrM'] <= current_date_range[1])]\n",
    "\n",
    "df_previous_year = df_combined[(df_combined['YrM'] >= previous_date_range[0]) & (df_combined['YrM'] <= previous_date_range[1])]\n",
    "\n",
    "df_final = pd.concat([df_current_year, df_previous_year])"
   ]
  },
  {
   "cell_type": "markdown",
   "metadata": {},
   "source": [
    "#### Format YrM to be more readable with new name and date formats"
   ]
  },
  {
   "cell_type": "code",
   "execution_count": 16,
   "metadata": {},
   "outputs": [],
   "source": [
    "df_final.rename(columns={'YrM':'Year_Month'}, inplace=True)\n",
    "df_final['Year_Month']= pd.to_datetime(df_final['Year_Month'], format=\"%Y%m\").dt.strftime('%Y-%m')"
   ]
  },
  {
   "cell_type": "code",
   "execution_count": 17,
   "metadata": {},
   "outputs": [
    {
     "data": {
      "text/plain": [
       "(27206, 16)"
      ]
     },
     "execution_count": 17,
     "metadata": {},
     "output_type": "execute_result"
    }
   ],
   "source": [
    "df_final.shape"
   ]
  },
  {
   "cell_type": "markdown",
   "metadata": {},
   "source": [
    "### Generate Breakdown of Gross Written Premium Cancelled"
   ]
  },
  {
   "cell_type": "code",
   "execution_count": 18,
   "metadata": {},
   "outputs": [],
   "source": [
    "df_cancel = df_final.loc[df_final['TRANTYPE'] == \"CANC\"]"
   ]
  },
  {
   "cell_type": "code",
   "execution_count": 19,
   "metadata": {},
   "outputs": [
    {
     "data": {
      "text/html": [
       "<div>\n",
       "<style scoped>\n",
       "    .dataframe tbody tr th:only-of-type {\n",
       "        vertical-align: middle;\n",
       "    }\n",
       "\n",
       "    .dataframe tbody tr th {\n",
       "        vertical-align: top;\n",
       "    }\n",
       "\n",
       "    .dataframe thead th {\n",
       "        text-align: right;\n",
       "    }\n",
       "</style>\n",
       "<table border=\"1\" class=\"dataframe\">\n",
       "  <thead>\n",
       "    <tr style=\"text-align: right;\">\n",
       "      <th></th>\n",
       "      <th></th>\n",
       "      <th>GWP</th>\n",
       "    </tr>\n",
       "    <tr>\n",
       "      <th>lob</th>\n",
       "      <th>Year_Month</th>\n",
       "      <th></th>\n",
       "    </tr>\n",
       "  </thead>\n",
       "  <tbody>\n",
       "    <tr>\n",
       "      <th rowspan=\"2\" valign=\"top\">017-Travel</th>\n",
       "      <th>2020-01</th>\n",
       "      <td>-14202.92</td>\n",
       "    </tr>\n",
       "    <tr>\n",
       "      <th>2020-02</th>\n",
       "      <td>-6550.37</td>\n",
       "    </tr>\n",
       "    <tr>\n",
       "      <th rowspan=\"2\" valign=\"top\">018-Personal Accident</th>\n",
       "      <th>2020-01</th>\n",
       "      <td>-6873.85</td>\n",
       "    </tr>\n",
       "    <tr>\n",
       "      <th>2020-02</th>\n",
       "      <td>-7997.22</td>\n",
       "    </tr>\n",
       "  </tbody>\n",
       "</table>\n",
       "</div>"
      ],
      "text/plain": [
       "                                       GWP\n",
       "lob                   Year_Month          \n",
       "017-Travel            2020-01    -14202.92\n",
       "                      2020-02     -6550.37\n",
       "018-Personal Accident 2020-01     -6873.85\n",
       "                      2020-02     -7997.22"
      ]
     },
     "execution_count": 19,
     "metadata": {},
     "output_type": "execute_result"
    }
   ],
   "source": [
    "# Filter via groupby\n",
    "\n",
    "df_gwp_cancel = df_cancel.groupby([\"lob\",\"Year_Month\"])[\"GWP\"].sum().to_frame()\n",
    "df_gwp_cancel"
   ]
  },
  {
   "cell_type": "markdown",
   "metadata": {},
   "source": [
    "Allocation seems to be correct and matching the spreadsheet."
   ]
  },
  {
   "cell_type": "code",
   "execution_count": 20,
   "metadata": {
    "scrolled": true
   },
   "outputs": [
    {
     "data": {
      "text/html": [
       "<div>\n",
       "<style scoped>\n",
       "    .dataframe tbody tr th:only-of-type {\n",
       "        vertical-align: middle;\n",
       "    }\n",
       "\n",
       "    .dataframe tbody tr th {\n",
       "        vertical-align: top;\n",
       "    }\n",
       "\n",
       "    .dataframe thead th {\n",
       "        text-align: right;\n",
       "    }\n",
       "</style>\n",
       "<table border=\"1\" class=\"dataframe\">\n",
       "  <thead>\n",
       "    <tr style=\"text-align: right;\">\n",
       "      <th></th>\n",
       "      <th>lob</th>\n",
       "      <th>Year_Month</th>\n",
       "      <th>GWP</th>\n",
       "    </tr>\n",
       "  </thead>\n",
       "  <tbody>\n",
       "    <tr>\n",
       "      <th>0</th>\n",
       "      <td>017-Travel</td>\n",
       "      <td>2020-01</td>\n",
       "      <td>-14202.92</td>\n",
       "    </tr>\n",
       "    <tr>\n",
       "      <th>1</th>\n",
       "      <td>017-Travel</td>\n",
       "      <td>2020-02</td>\n",
       "      <td>-6550.37</td>\n",
       "    </tr>\n",
       "    <tr>\n",
       "      <th>2</th>\n",
       "      <td>018-Personal Accident</td>\n",
       "      <td>2020-01</td>\n",
       "      <td>-6873.85</td>\n",
       "    </tr>\n",
       "    <tr>\n",
       "      <th>3</th>\n",
       "      <td>018-Personal Accident</td>\n",
       "      <td>2020-02</td>\n",
       "      <td>-7997.22</td>\n",
       "    </tr>\n",
       "  </tbody>\n",
       "</table>\n",
       "</div>"
      ],
      "text/plain": [
       "                     lob Year_Month       GWP\n",
       "0             017-Travel    2020-01 -14202.92\n",
       "1             017-Travel    2020-02  -6550.37\n",
       "2  018-Personal Accident    2020-01  -6873.85\n",
       "3  018-Personal Accident    2020-02  -7997.22"
      ]
     },
     "execution_count": 20,
     "metadata": {},
     "output_type": "execute_result"
    }
   ],
   "source": [
    "# Convert the table into a full dataframe\n",
    "\n",
    "df_cancelled = df_gwp_cancel.reset_index(level=['lob', 'Year_Month'])\n",
    "df_cancelled"
   ]
  },
  {
   "cell_type": "markdown",
   "metadata": {},
   "source": [
    "### Generate Breakdown of Gross Written Premium Booked"
   ]
  },
  {
   "cell_type": "code",
   "execution_count": 21,
   "metadata": {
    "scrolled": true
   },
   "outputs": [],
   "source": [
    "df_booked = df_final.loc[df_combined['TRANTYPE'] != \"CANC\"]"
   ]
  },
  {
   "cell_type": "code",
   "execution_count": 22,
   "metadata": {
    "scrolled": false
   },
   "outputs": [],
   "source": [
    "df_gwp_booked = df_booked.groupby([\"lob\",\"Year_Month\"])[\"GWP\"].sum().to_frame()"
   ]
  },
  {
   "cell_type": "code",
   "execution_count": 23,
   "metadata": {},
   "outputs": [
    {
     "data": {
      "text/html": [
       "<div>\n",
       "<style scoped>\n",
       "    .dataframe tbody tr th:only-of-type {\n",
       "        vertical-align: middle;\n",
       "    }\n",
       "\n",
       "    .dataframe tbody tr th {\n",
       "        vertical-align: top;\n",
       "    }\n",
       "\n",
       "    .dataframe thead th {\n",
       "        text-align: right;\n",
       "    }\n",
       "</style>\n",
       "<table border=\"1\" class=\"dataframe\">\n",
       "  <thead>\n",
       "    <tr style=\"text-align: right;\">\n",
       "      <th></th>\n",
       "      <th>lob</th>\n",
       "      <th>Year_Month</th>\n",
       "      <th>GWP</th>\n",
       "    </tr>\n",
       "  </thead>\n",
       "  <tbody>\n",
       "    <tr>\n",
       "      <th>0</th>\n",
       "      <td>017-Travel</td>\n",
       "      <td>2020-01</td>\n",
       "      <td>715553.64</td>\n",
       "    </tr>\n",
       "    <tr>\n",
       "      <th>1</th>\n",
       "      <td>017-Travel</td>\n",
       "      <td>2020-02</td>\n",
       "      <td>457142.34</td>\n",
       "    </tr>\n",
       "    <tr>\n",
       "      <th>2</th>\n",
       "      <td>018-Personal Accident</td>\n",
       "      <td>2020-01</td>\n",
       "      <td>622758.09</td>\n",
       "    </tr>\n",
       "    <tr>\n",
       "      <th>3</th>\n",
       "      <td>018-Personal Accident</td>\n",
       "      <td>2020-02</td>\n",
       "      <td>312239.69</td>\n",
       "    </tr>\n",
       "  </tbody>\n",
       "</table>\n",
       "</div>"
      ],
      "text/plain": [
       "                     lob Year_Month        GWP\n",
       "0             017-Travel    2020-01  715553.64\n",
       "1             017-Travel    2020-02  457142.34\n",
       "2  018-Personal Accident    2020-01  622758.09\n",
       "3  018-Personal Accident    2020-02  312239.69"
      ]
     },
     "execution_count": 23,
     "metadata": {},
     "output_type": "execute_result"
    }
   ],
   "source": [
    "# Convert the table into a full dataframe\n",
    "\n",
    "df_booked = df_gwp_booked.reset_index(level=['lob', 'Year_Month'])\n",
    "df_booked"
   ]
  },
  {
   "cell_type": "markdown",
   "metadata": {},
   "source": [
    "#### Verify both the Cancelled & Booked amounts tally with original dataset"
   ]
  },
  {
   "cell_type": "code",
   "execution_count": 24,
   "metadata": {},
   "outputs": [
    {
     "name": "stdout",
     "output_type": "stream",
     "text": [
      "-35624.36000000001\n",
      "2107693.759999979\n"
     ]
    }
   ],
   "source": [
    "print(df_gwp_cancel['GWP'].sum())\n",
    "print(df_gwp_booked['GWP'].sum())"
   ]
  },
  {
   "cell_type": "code",
   "execution_count": 25,
   "metadata": {},
   "outputs": [
    {
     "data": {
      "text/plain": [
       "TRANTYPE\n",
       "False    2107693.76\n",
       "True      -35624.36\n",
       "Name: GWP, dtype: float64"
      ]
     },
     "execution_count": 25,
     "metadata": {},
     "output_type": "execute_result"
    }
   ],
   "source": [
    "df_final.groupby(df_combined['TRANTYPE'] == 'CANC')['GWP'].sum()"
   ]
  },
  {
   "cell_type": "markdown",
   "metadata": {},
   "source": [
    "Both the amounts match correctly."
   ]
  },
  {
   "cell_type": "markdown",
   "metadata": {},
   "source": [
    "### Construct the Report"
   ]
  },
  {
   "cell_type": "code",
   "execution_count": 26,
   "metadata": {},
   "outputs": [],
   "source": [
    "df_cancelled.rename(columns = {\"GWP\":\"GWP Cancelled\"}, inplace = True)\n",
    "df_booked.rename(columns = {\"GWP\":\"GWP Booked\"}, inplace = True)"
   ]
  },
  {
   "cell_type": "code",
   "execution_count": 27,
   "metadata": {},
   "outputs": [],
   "source": [
    "df_cancelled['GWP Booked'] = df_booked[\"GWP Booked\"]"
   ]
  },
  {
   "cell_type": "code",
   "execution_count": 28,
   "metadata": {
    "scrolled": false
   },
   "outputs": [
    {
     "data": {
      "text/html": [
       "<div>\n",
       "<style scoped>\n",
       "    .dataframe tbody tr th:only-of-type {\n",
       "        vertical-align: middle;\n",
       "    }\n",
       "\n",
       "    .dataframe tbody tr th {\n",
       "        vertical-align: top;\n",
       "    }\n",
       "\n",
       "    .dataframe thead th {\n",
       "        text-align: right;\n",
       "    }\n",
       "</style>\n",
       "<table border=\"1\" class=\"dataframe\">\n",
       "  <thead>\n",
       "    <tr style=\"text-align: right;\">\n",
       "      <th></th>\n",
       "      <th>lob</th>\n",
       "      <th>Year_Month</th>\n",
       "      <th>GWP Cancelled</th>\n",
       "      <th>GWP Booked</th>\n",
       "    </tr>\n",
       "  </thead>\n",
       "  <tbody>\n",
       "    <tr>\n",
       "      <th>0</th>\n",
       "      <td>017-Travel</td>\n",
       "      <td>2020-01</td>\n",
       "      <td>-14202.92</td>\n",
       "      <td>715553.64</td>\n",
       "    </tr>\n",
       "    <tr>\n",
       "      <th>1</th>\n",
       "      <td>017-Travel</td>\n",
       "      <td>2020-02</td>\n",
       "      <td>-6550.37</td>\n",
       "      <td>457142.34</td>\n",
       "    </tr>\n",
       "    <tr>\n",
       "      <th>2</th>\n",
       "      <td>018-Personal Accident</td>\n",
       "      <td>2020-01</td>\n",
       "      <td>-6873.85</td>\n",
       "      <td>622758.09</td>\n",
       "    </tr>\n",
       "    <tr>\n",
       "      <th>3</th>\n",
       "      <td>018-Personal Accident</td>\n",
       "      <td>2020-02</td>\n",
       "      <td>-7997.22</td>\n",
       "      <td>312239.69</td>\n",
       "    </tr>\n",
       "  </tbody>\n",
       "</table>\n",
       "</div>"
      ],
      "text/plain": [
       "                     lob Year_Month  GWP Cancelled  GWP Booked\n",
       "0             017-Travel    2020-01      -14202.92   715553.64\n",
       "1             017-Travel    2020-02       -6550.37   457142.34\n",
       "2  018-Personal Accident    2020-01       -6873.85   622758.09\n",
       "3  018-Personal Accident    2020-02       -7997.22   312239.69"
      ]
     },
     "execution_count": 28,
     "metadata": {},
     "output_type": "execute_result"
    }
   ],
   "source": [
    "df_export = df_cancelled\n",
    "df_export"
   ]
  },
  {
   "cell_type": "markdown",
   "metadata": {},
   "source": [
    "#### Export the Report"
   ]
  },
  {
   "cell_type": "code",
   "execution_count": 29,
   "metadata": {},
   "outputs": [],
   "source": [
    "df_export.to_excel(\"AXA_Monthly_Report.xlsx\",index = False)  "
   ]
  }
 ],
 "metadata": {
  "kernelspec": {
   "display_name": "Python 3",
   "language": "python",
   "name": "python3"
  },
  "language_info": {
   "codemirror_mode": {
    "name": "ipython",
    "version": 3
   },
   "file_extension": ".py",
   "mimetype": "text/x-python",
   "name": "python",
   "nbconvert_exporter": "python",
   "pygments_lexer": "ipython3",
   "version": "3.7.6"
  }
 },
 "nbformat": 4,
 "nbformat_minor": 4
}
